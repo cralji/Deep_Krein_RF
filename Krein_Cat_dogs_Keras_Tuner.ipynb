{
  "cells": [
    {
      "cell_type": "markdown",
      "metadata": {
        "id": "view-in-github",
        "colab_type": "text"
      },
      "source": [
        "<a href=\"https://colab.research.google.com/github/cralji/Deep_Krein_RF/blob/main/Krein_Cat_dogs_Keras_Tuner.ipynb\" target=\"_parent\"><img src=\"https://colab.research.google.com/assets/colab-badge.svg\" alt=\"Open In Colab\"/></a>"
      ]
    },
    {
      "cell_type": "markdown",
      "metadata": {
        "id": "YIFZ4ESMB7pf"
      },
      "source": [
        "# Preliminares"
      ]
    },
    {
      "cell_type": "markdown",
      "metadata": {
        "id": "gPy4mk90B_EY"
      },
      "source": [
        "## Intalar Paquetes Necesarios"
      ]
    },
    {
      "cell_type": "code",
      "execution_count": 1,
      "metadata": {
        "id": "_pXd5huHC3OQ"
      },
      "outputs": [],
      "source": [
        "%%capture\n",
        "!pip install --upgrade keras==2.15.0\n",
        "!pip install -U git+https://github.com/UN-GCPDS/python-gcpds.image_segmentation.git >> /tmp/null"
      ]
    },
    {
      "cell_type": "code",
      "execution_count": 2,
      "metadata": {
        "id": "-JJYyPmf5TXZ"
      },
      "outputs": [],
      "source": [
        "%%capture\n",
        "!pip install keras-tuner"
      ]
    },
    {
      "cell_type": "code",
      "execution_count": 3,
      "metadata": {
        "id": "kwDgI4zIx-pe"
      },
      "outputs": [],
      "source": [
        "%%capture\n",
        "!git clone https://github.com/cralji/Deep_Krein_RF.git"
      ]
    },
    {
      "cell_type": "markdown",
      "metadata": {
        "id": "tFYqEkVnCDHq"
      },
      "source": [
        "## Incorporando Repo al PATH"
      ]
    },
    {
      "cell_type": "code",
      "execution_count": 4,
      "metadata": {
        "id": "SQPGWH4YzESQ"
      },
      "outputs": [],
      "source": [
        "import os\n",
        "import sys\n",
        "\n",
        "sys.path.append('/content/Deep_Krein_RF')\n",
        "\n",
        "os.chdir('/content/Deep_Krein_RF')"
      ]
    },
    {
      "cell_type": "code",
      "execution_count": 4,
      "metadata": {
        "id": "lKg77UUIzKan"
      },
      "outputs": [],
      "source": []
    },
    {
      "cell_type": "markdown",
      "metadata": {
        "id": "FlHr911SB6ah"
      },
      "source": [
        "## Cambiando KErnel del proceso Gaussiado de la Optimización Bayesiana dek KerasTuner a un Matern$_{\\nu=\\frac{1}{2}}$"
      ]
    },
    {
      "cell_type": "code",
      "execution_count": 6,
      "metadata": {
        "id": "ByrH_-wFzY2g"
      },
      "outputs": [],
      "source": [
        "import keras_tuner\n",
        "import os\n",
        "\n",
        "# Get the directory where keras_tuner is installed\n",
        "keras_tuner_dir = os.path.dirname(keras_tuner.__file__)\n",
        "\n",
        "# Construct the path to bayesian.py\n",
        "bayesian_path = os.path.join(keras_tuner_dir, 'src', 'tuners', 'bayesian.py')\n",
        "\n",
        "# bayesian_path = \"/usr/local/lib/python3.10/dist-packages/keras_tuner/src/tuners/bayesian.py\"\n",
        "del keras_tuner\n",
        "\n",
        "with open(\"cambio_matern_12.txt\", \"r\") as f:\n",
        "  new_content = f.read()\n",
        "  # print(new_content)\n",
        "\n",
        "with open(bayesian_path, 'w') as file:\n",
        "  file.write(new_content)\n",
        "\n",
        "# print(new_content)"
      ]
    },
    {
      "cell_type": "markdown",
      "source": [],
      "metadata": {
        "id": "VzJmxlpbRjTV"
      }
    },
    {
      "cell_type": "markdown",
      "metadata": {
        "id": "LmTF9N56ChJI"
      },
      "source": [
        "#Proceso"
      ]
    },
    {
      "cell_type": "markdown",
      "metadata": {
        "id": "F9sT5SiLCjon"
      },
      "source": [
        "## Cargue Librerias"
      ]
    },
    {
      "cell_type": "code",
      "execution_count": 7,
      "metadata": {
        "id": "rwSeAikCCntf"
      },
      "outputs": [],
      "source": [
        "from krein_functions import *\n",
        "from models import krein_rff_unet\n",
        "from metrics import DiceCoefficient\n",
        "from losses import WeightedDiceLoss\n",
        "from callbacks import MetricsCallback\n",
        "\n",
        "# General Libraries\n",
        "import time\n",
        "import shutil\n",
        "import random\n",
        "import warnings\n",
        "import pandas as pd\n",
        "import seaborn as sns\n",
        "from enum import auto, Enum\n",
        "from functools import partial\n",
        "from datetime import datetime\n",
        "\n",
        "# Image Processing Libraries\n",
        "import cv2\n",
        "import numpy as np\n",
        "import matplotlib.pyplot as plt\n",
        "from matplotlib.axes import Axes\n",
        "from matplotlib.cm import coolwarm\n",
        "\n",
        "# Deep Learning Libraries\n",
        "import tensorflow as tf\n",
        "from tensorflow import keras\n",
        "from keras_tuner import Objective\n",
        "from keras_tuner import HyperModel\n",
        "import tensorflow.keras.backend as K\n",
        "from keras.layers import Layer, Activation\n",
        "from keras_tuner import BayesianOptimization\n",
        "from tensorflow.keras.optimizers import Adam\n",
        "from tensorflow.keras.callbacks import Callback\n",
        "from tensorflow.keras.utils import to_categorical\n",
        "from tensorflow.keras.utils import get_custom_objects\n",
        "from keras_tuner.engine.hyperparameters import HyperParameters\n",
        "from tensorflow.keras.preprocessing.image import ImageDataGenerator\n",
        "\n",
        "# Machine Learning Libraries - Sklearn\n",
        "from sklearn.manifold import TSNE\n",
        "from sklearn.cluster import KMeans\n",
        "from sklearn.preprocessing import MinMaxScaler\n",
        "from sklearn.preprocessing import LabelEncoder\n",
        "from sklearn.preprocessing import StandardScaler\n",
        "from sklearn.gaussian_process import GaussianProcessRegressor\n",
        "from sklearn.gaussian_process.kernels import RBF, ConstantKernel as C, DotProduct, ExpSineSquared, Matern\n",
        "\n",
        "# Deep Learning Libraries - GCPDS\n",
        "from gcpds.image_segmentation.datasets.segmentation import OxfordIiitPet\n",
        "\n",
        "# Deep Learning Libraries - TensorFlow specific\n",
        "# from tensorflow.keras.losses import Loss\n",
        "# from tensorflow.keras.metrics import Metric\n",
        "from tensorflow.keras import Model, layers, regularizers\n",
        "\n",
        "# Other Libraries\n",
        "import gc\n",
        "import json\n",
        "import gdown\n",
        "import itertools\n",
        "from PIL import ImageFont\n",
        "from dataclasses import dataclass\n",
        "from matplotlib.style import available\n",
        "from tensorflow.python.framework.ops import EagerTensor\n",
        "\n",
        "warnings.filterwarnings(\"ignore\") # Disable warnings"
      ]
    },
    {
      "cell_type": "markdown",
      "metadata": {
        "id": "osz_gjb_RtiX"
      },
      "source": [
        "## Load Dataset"
      ]
    },
    {
      "cell_type": "code",
      "execution_count": null,
      "metadata": {
        "colab": {
          "base_uri": "https://localhost:8080/",
          "height": 150,
          "referenced_widgets": [
            "ae570b4508e14a679073840be937ec32",
            "aabda933902c44aab4278102888cb0d6",
            "bc71ea0e67d842e6ab2f780e20e07fb8",
            "f93a571ffed7447bad6a17c9f2c537fd",
            "3ec5044b86cf4dd2a452b367404dccff",
            "b4b52c510fb44900b48e7a856ef5c415",
            "f5d9dc58b5704486a12c18cbf1928011",
            "631f53ee10514ed48f84a6840d46b990",
            "0e8747af669747739215ffcb0efd007f",
            "437f6065827044ee9e07ebace7d71898",
            "7a32de033e0c45419057ab42a4718b89",
            "06fa9d0ba8c24beba31929e98c41f735",
            "49efa64f2a9549c78caa72a38d6d9c49",
            "06a2dec73ee845b49cd01a71d738e37e",
            "fa29fb60d1a14745b9cce5def0a44e8b",
            "1cb1f919e79f4a2185ab7586b2684b71",
            "070b0b50bc7b428abdd006b085c4a889",
            "355a9808010c467eaeec178712e8bb3a",
            "0a482cf185814269877969b4356f2c37",
            "5d463e3bd4844321bf774d934269fea5",
            "d1643fae7acb4e7f86e36b8c52886a3f",
            "dea98dc7332947a4beede553ae80fe9c",
            "2af929933cdb46b9a212f6e533e29f04",
            "9cac7a16d11b42ef87d3f32d6c8ab1be",
            "84eaf667cd08412e838444952764f638",
            "7cc6bed61a434f4cbe677d3a4292a20c",
            "075e06e8bf5841fd8da94d018d3be1f9",
            "ce66e9331718423393894416454c98b6",
            "e8599c6fa5dd4c2996006cf80aa6a8f1",
            "519c46e3e737479383a78d608247dca6",
            "11480bbea1634d73aa1622a1603db395",
            "cb2149155e274d7b948f16feef8ac82b",
            "1674bece9fdd4bf9bf5371757ba1eac9"
          ]
        },
        "id": "5tmgTc5GCoKw",
        "outputId": "211651f4-3cfe-42cd-a505-ef421fa308c0"
      },
      "outputs": [
        {
          "output_type": "stream",
          "name": "stdout",
          "text": [
            "Downloading and preparing dataset 773.52 MiB (download: 773.52 MiB, generated: 774.69 MiB, total: 1.51 GiB) to /root/tensorflow_datasets/oxford_iiit_pet/3.2.0...\n"
          ]
        },
        {
          "output_type": "display_data",
          "data": {
            "text/plain": [
              "Dl Completed...: 0 url [00:00, ? url/s]"
            ],
            "application/vnd.jupyter.widget-view+json": {
              "version_major": 2,
              "version_minor": 0,
              "model_id": "ae570b4508e14a679073840be937ec32"
            }
          },
          "metadata": {}
        },
        {
          "output_type": "display_data",
          "data": {
            "text/plain": [
              "Dl Size...: 0 MiB [00:00, ? MiB/s]"
            ],
            "application/vnd.jupyter.widget-view+json": {
              "version_major": 2,
              "version_minor": 0,
              "model_id": "06fa9d0ba8c24beba31929e98c41f735"
            }
          },
          "metadata": {}
        },
        {
          "output_type": "display_data",
          "data": {
            "text/plain": [
              "Extraction completed...: 0 file [00:00, ? file/s]"
            ],
            "application/vnd.jupyter.widget-view+json": {
              "version_major": 2,
              "version_minor": 0,
              "model_id": "2af929933cdb46b9a212f6e533e29f04"
            }
          },
          "metadata": {}
        }
      ],
      "source": [
        "dataset = OxfordIiitPet()\n",
        "train_dataset, val_dataset, test_dataset = dataset()"
      ]
    },
    {
      "cell_type": "code",
      "execution_count": null,
      "metadata": {
        "id": "maH9uuF-Rr9e"
      },
      "outputs": [],
      "source": [
        "def preprocess(img,mask):\n",
        "    img = tf.image.resize(img,(256,256))\n",
        "    mask = tf.image.resize(mask,(256,256))#Ch 1: Seed, Ch 2: No germinate, Ch 3: germinate\n",
        "    mask = tf.cast(mask>0, tf.float32)\n",
        "    mask = mask[...,1]\n",
        "    mask = mask[...,tf.newaxis]\n",
        "    # mask_ = tf.reduce_sum(mask, axis =[-1], keepdims=True)\n",
        "    back_ground = tf.reduce_sum(mask, axis =[-1], keepdims=True)\n",
        "    back_ground = back_ground == 0\n",
        "    back_ground = tf.cast(back_ground, tf.float32)\n",
        "    mask = tf.concat([mask,back_ground], axis=-1) #Ch 1: No germinate, Ch 2: germinate, Ch 3: Background\n",
        "    return img,mask\n",
        "\n",
        "train = train_dataset.map(lambda x,y,label,id:preprocess(x,y))\n",
        "train = train.batch(64)\n",
        "train = train.cache()\n",
        "\n",
        "\n",
        "val = val_dataset.map(lambda x,y,label,id:preprocess(x,y))\n",
        "val = val.batch(64)\n",
        "val = val.cache()"
      ]
    },
    {
      "cell_type": "code",
      "execution_count": null,
      "metadata": {
        "id": "7Cm2R7INgr36"
      },
      "outputs": [],
      "source": [
        "def build_model(hp:HyperParameters):\n",
        "\n",
        "  # parameters\n",
        "  learning_rate = hp.Float('learning_rate', min_value=1e-4, max_value=1e-1, sampling='log')\n",
        "  phi_units = hp.Int('phi_units', min_value=2, max_value=8, step=2)\n",
        "\n",
        "  # Build model\n",
        "  model = krein_rff_unet((256,256,3),2,phi_units=phi_units)\n",
        "  optimizer = tf.keras.optimizers.RMSprop(learning_rate = learning_rate)\n",
        "  model.compile(loss = WeightedDiceLoss(weights=[0.5,0.5]),\n",
        "                optimizer=optimizer,\n",
        "                metrics=[DiceCoefficient(name='dice_cat_dog',target_class=0),\n",
        "                         DiceCoefficient(name='dice_background',target_class=1),\n",
        "                         DiceCoefficient(name = 'dice')\n",
        "                        ]\n",
        "                  )\n",
        "  return model"
      ]
    },
    {
      "cell_type": "code",
      "execution_count": null,
      "metadata": {
        "id": "uq5Fycu2n4Kq"
      },
      "outputs": [],
      "source": [
        "from tensorflow.keras.callbacks import Callback\n",
        "\n",
        "class MetricsCallback(Callback):\n",
        "    \"\"\"\n",
        "    Custom Keras callback to log metrics at the end of training epochs.\n",
        "\n",
        "    This callback logs metrics such as loss and accuracy at the end of each epoch\n",
        "    during training. It stores the metrics in a global list `global_metrics` upon\n",
        "    completion of the final epoch.\n",
        "\n",
        "    Parameters:\n",
        "        epochs (int): Total number of epochs for training.\n",
        "\n",
        "    Methods:\n",
        "        on_epoch_end(epoch, logs=None):\n",
        "            Called at the end of each epoch. Logs metrics and stores them in\n",
        "            `global_metrics` upon completion of the final epoch.\n",
        "    \"\"\"\n",
        "\n",
        "    def __init__(self, epochs):\n",
        "        \"\"\"\n",
        "        Initializes the MetricsCallback instance.\n",
        "\n",
        "        Parameters:\n",
        "            epochs (int): Total number of epochs for training.\n",
        "        \"\"\"\n",
        "        super().__init__()\n",
        "        self.epochs = epochs\n",
        "\n",
        "    def on_epoch_end(self, epoch, logs=None):\n",
        "        \"\"\"\n",
        "        Callback function called at the end of each epoch.\n",
        "\n",
        "        Logs metrics such as loss and accuracy at the end of each epoch.\n",
        "        Stores the metrics in `global_metrics` upon completion of the final epoch.\n",
        "\n",
        "        Parameters:\n",
        "            epoch (int): Current epoch number (0-indexed).\n",
        "            logs (dict): Dictionary containing the metrics to log.\n",
        "                Typically contains keys like 'loss' and 'accuracy'.\n",
        "        \"\"\"\n",
        "        if epoch == self.epochs - 1:\n",
        "            print(f\"Final Epoch {epoch + 1}:\")\n",
        "            metrics_dict = {'epoch': epoch + 1}\n",
        "            for key, value in logs.items():\n",
        "                print(f\"{key}: {value:.4f}\")\n",
        "                metrics_dict[key] = value\n",
        "            global_metrics.append(metrics_dict)"
      ]
    },
    {
      "cell_type": "code",
      "execution_count": null,
      "metadata": {
        "id": "fWoxbG6MUQll"
      },
      "outputs": [],
      "source": [
        "num_epochs = 2\n",
        "global_metrics = []\n",
        "callbacks = [MetricsCallback(num_epochs)]"
      ]
    },
    {
      "cell_type": "code",
      "execution_count": null,
      "metadata": {
        "id": "gnepb8r-bMWW"
      },
      "outputs": [],
      "source": [
        "# Define HyperModel and tuner\n",
        "tuner = BayesianOptimization(build_model,\n",
        "                             objective=Objective('val_dice',direction='max'),\n",
        "                             max_trials=10,\n",
        "                             executions_per_trial=1,\n",
        "                             directory='./my_dir',\n",
        "                             project_name='loss_dice')"
      ]
    },
    {
      "cell_type": "code",
      "execution_count": null,
      "metadata": {
        "id": "xJXXMwyWbehb"
      },
      "outputs": [],
      "source": [
        "# Fit the tuner\n",
        "tuner.search(train, epochs=num_epochs, validation_data=val, callbacks=callbacks)"
      ]
    },
    {
      "cell_type": "code",
      "execution_count": null,
      "metadata": {
        "id": "OtQMCh7wl5Bv"
      },
      "outputs": [],
      "source": [
        "gp = tuner.oracle._gpr_trained()\n",
        "print(f\"Kernel parameters before training: {gp.kernel}\\nKernel parameters after training: {gp.kernel_}\")"
      ]
    },
    {
      "cell_type": "code",
      "execution_count": 16,
      "metadata": {
        "id": "N4FSlFfpl8IT",
        "colab": {
          "base_uri": "https://localhost:8080/",
          "height": 363
        },
        "outputId": "9fed9bcf-f6f1-4992-de09-27912e37cc6b"
      },
      "outputs": [
        {
          "output_type": "execute_result",
          "data": {
            "text/plain": [
              "  trial_id  learning_rate  phi_units        loss      dice\n",
              "6       00       0.006996          8   24.996847  0.653257\n",
              "8       01       0.000140          2    5.516446  0.619381\n",
              "7       02       0.000131          4   36.654781  0.637546\n",
              "9       03       0.000159          2  388.625763  0.628123\n",
              "5       04       0.000509          6  268.725250  0.640916\n",
              "1       05       0.032821          2   39.934570  0.593262\n",
              "2       06       0.100000          2   53.717865  0.609102\n",
              "0       07       0.021634          2   60.622486  0.625376\n",
              "3       08       0.018148          2  -20.423927  0.579315\n",
              "4       09       0.021991          2  319.163452  0.663268"
            ],
            "text/html": [
              "\n",
              "  <div id=\"df-ab761aae-158f-4a24-bc4f-d3f804003805\" class=\"colab-df-container\">\n",
              "    <div>\n",
              "<style scoped>\n",
              "    .dataframe tbody tr th:only-of-type {\n",
              "        vertical-align: middle;\n",
              "    }\n",
              "\n",
              "    .dataframe tbody tr th {\n",
              "        vertical-align: top;\n",
              "    }\n",
              "\n",
              "    .dataframe thead th {\n",
              "        text-align: right;\n",
              "    }\n",
              "</style>\n",
              "<table border=\"1\" class=\"dataframe\">\n",
              "  <thead>\n",
              "    <tr style=\"text-align: right;\">\n",
              "      <th></th>\n",
              "      <th>trial_id</th>\n",
              "      <th>learning_rate</th>\n",
              "      <th>phi_units</th>\n",
              "      <th>loss</th>\n",
              "      <th>dice</th>\n",
              "    </tr>\n",
              "  </thead>\n",
              "  <tbody>\n",
              "    <tr>\n",
              "      <th>6</th>\n",
              "      <td>00</td>\n",
              "      <td>0.006996</td>\n",
              "      <td>8</td>\n",
              "      <td>24.996847</td>\n",
              "      <td>0.653257</td>\n",
              "    </tr>\n",
              "    <tr>\n",
              "      <th>8</th>\n",
              "      <td>01</td>\n",
              "      <td>0.000140</td>\n",
              "      <td>2</td>\n",
              "      <td>5.516446</td>\n",
              "      <td>0.619381</td>\n",
              "    </tr>\n",
              "    <tr>\n",
              "      <th>7</th>\n",
              "      <td>02</td>\n",
              "      <td>0.000131</td>\n",
              "      <td>4</td>\n",
              "      <td>36.654781</td>\n",
              "      <td>0.637546</td>\n",
              "    </tr>\n",
              "    <tr>\n",
              "      <th>9</th>\n",
              "      <td>03</td>\n",
              "      <td>0.000159</td>\n",
              "      <td>2</td>\n",
              "      <td>388.625763</td>\n",
              "      <td>0.628123</td>\n",
              "    </tr>\n",
              "    <tr>\n",
              "      <th>5</th>\n",
              "      <td>04</td>\n",
              "      <td>0.000509</td>\n",
              "      <td>6</td>\n",
              "      <td>268.725250</td>\n",
              "      <td>0.640916</td>\n",
              "    </tr>\n",
              "    <tr>\n",
              "      <th>1</th>\n",
              "      <td>05</td>\n",
              "      <td>0.032821</td>\n",
              "      <td>2</td>\n",
              "      <td>39.934570</td>\n",
              "      <td>0.593262</td>\n",
              "    </tr>\n",
              "    <tr>\n",
              "      <th>2</th>\n",
              "      <td>06</td>\n",
              "      <td>0.100000</td>\n",
              "      <td>2</td>\n",
              "      <td>53.717865</td>\n",
              "      <td>0.609102</td>\n",
              "    </tr>\n",
              "    <tr>\n",
              "      <th>0</th>\n",
              "      <td>07</td>\n",
              "      <td>0.021634</td>\n",
              "      <td>2</td>\n",
              "      <td>60.622486</td>\n",
              "      <td>0.625376</td>\n",
              "    </tr>\n",
              "    <tr>\n",
              "      <th>3</th>\n",
              "      <td>08</td>\n",
              "      <td>0.018148</td>\n",
              "      <td>2</td>\n",
              "      <td>-20.423927</td>\n",
              "      <td>0.579315</td>\n",
              "    </tr>\n",
              "    <tr>\n",
              "      <th>4</th>\n",
              "      <td>09</td>\n",
              "      <td>0.021991</td>\n",
              "      <td>2</td>\n",
              "      <td>319.163452</td>\n",
              "      <td>0.663268</td>\n",
              "    </tr>\n",
              "  </tbody>\n",
              "</table>\n",
              "</div>\n",
              "    <div class=\"colab-df-buttons\">\n",
              "\n",
              "  <div class=\"colab-df-container\">\n",
              "    <button class=\"colab-df-convert\" onclick=\"convertToInteractive('df-ab761aae-158f-4a24-bc4f-d3f804003805')\"\n",
              "            title=\"Convert this dataframe to an interactive table.\"\n",
              "            style=\"display:none;\">\n",
              "\n",
              "  <svg xmlns=\"http://www.w3.org/2000/svg\" height=\"24px\" viewBox=\"0 -960 960 960\">\n",
              "    <path d=\"M120-120v-720h720v720H120Zm60-500h600v-160H180v160Zm220 220h160v-160H400v160Zm0 220h160v-160H400v160ZM180-400h160v-160H180v160Zm440 0h160v-160H620v160ZM180-180h160v-160H180v160Zm440 0h160v-160H620v160Z\"/>\n",
              "  </svg>\n",
              "    </button>\n",
              "\n",
              "  <style>\n",
              "    .colab-df-container {\n",
              "      display:flex;\n",
              "      gap: 12px;\n",
              "    }\n",
              "\n",
              "    .colab-df-convert {\n",
              "      background-color: #E8F0FE;\n",
              "      border: none;\n",
              "      border-radius: 50%;\n",
              "      cursor: pointer;\n",
              "      display: none;\n",
              "      fill: #1967D2;\n",
              "      height: 32px;\n",
              "      padding: 0 0 0 0;\n",
              "      width: 32px;\n",
              "    }\n",
              "\n",
              "    .colab-df-convert:hover {\n",
              "      background-color: #E2EBFA;\n",
              "      box-shadow: 0px 1px 2px rgba(60, 64, 67, 0.3), 0px 1px 3px 1px rgba(60, 64, 67, 0.15);\n",
              "      fill: #174EA6;\n",
              "    }\n",
              "\n",
              "    .colab-df-buttons div {\n",
              "      margin-bottom: 4px;\n",
              "    }\n",
              "\n",
              "    [theme=dark] .colab-df-convert {\n",
              "      background-color: #3B4455;\n",
              "      fill: #D2E3FC;\n",
              "    }\n",
              "\n",
              "    [theme=dark] .colab-df-convert:hover {\n",
              "      background-color: #434B5C;\n",
              "      box-shadow: 0px 1px 3px 1px rgba(0, 0, 0, 0.15);\n",
              "      filter: drop-shadow(0px 1px 2px rgba(0, 0, 0, 0.3));\n",
              "      fill: #FFFFFF;\n",
              "    }\n",
              "  </style>\n",
              "\n",
              "    <script>\n",
              "      const buttonEl =\n",
              "        document.querySelector('#df-ab761aae-158f-4a24-bc4f-d3f804003805 button.colab-df-convert');\n",
              "      buttonEl.style.display =\n",
              "        google.colab.kernel.accessAllowed ? 'block' : 'none';\n",
              "\n",
              "      async function convertToInteractive(key) {\n",
              "        const element = document.querySelector('#df-ab761aae-158f-4a24-bc4f-d3f804003805');\n",
              "        const dataTable =\n",
              "          await google.colab.kernel.invokeFunction('convertToInteractive',\n",
              "                                                    [key], {});\n",
              "        if (!dataTable) return;\n",
              "\n",
              "        const docLinkHtml = 'Like what you see? Visit the ' +\n",
              "          '<a target=\"_blank\" href=https://colab.research.google.com/notebooks/data_table.ipynb>data table notebook</a>'\n",
              "          + ' to learn more about interactive tables.';\n",
              "        element.innerHTML = '';\n",
              "        dataTable['output_type'] = 'display_data';\n",
              "        await google.colab.output.renderOutput(dataTable, element);\n",
              "        const docLink = document.createElement('div');\n",
              "        docLink.innerHTML = docLinkHtml;\n",
              "        element.appendChild(docLink);\n",
              "      }\n",
              "    </script>\n",
              "  </div>\n",
              "\n",
              "\n",
              "<div id=\"df-127300a7-1b7a-4349-8e4f-d689b43fd073\">\n",
              "  <button class=\"colab-df-quickchart\" onclick=\"quickchart('df-127300a7-1b7a-4349-8e4f-d689b43fd073')\"\n",
              "            title=\"Suggest charts\"\n",
              "            style=\"display:none;\">\n",
              "\n",
              "<svg xmlns=\"http://www.w3.org/2000/svg\" height=\"24px\"viewBox=\"0 0 24 24\"\n",
              "     width=\"24px\">\n",
              "    <g>\n",
              "        <path d=\"M19 3H5c-1.1 0-2 .9-2 2v14c0 1.1.9 2 2 2h14c1.1 0 2-.9 2-2V5c0-1.1-.9-2-2-2zM9 17H7v-7h2v7zm4 0h-2V7h2v10zm4 0h-2v-4h2v4z\"/>\n",
              "    </g>\n",
              "</svg>\n",
              "  </button>\n",
              "\n",
              "<style>\n",
              "  .colab-df-quickchart {\n",
              "      --bg-color: #E8F0FE;\n",
              "      --fill-color: #1967D2;\n",
              "      --hover-bg-color: #E2EBFA;\n",
              "      --hover-fill-color: #174EA6;\n",
              "      --disabled-fill-color: #AAA;\n",
              "      --disabled-bg-color: #DDD;\n",
              "  }\n",
              "\n",
              "  [theme=dark] .colab-df-quickchart {\n",
              "      --bg-color: #3B4455;\n",
              "      --fill-color: #D2E3FC;\n",
              "      --hover-bg-color: #434B5C;\n",
              "      --hover-fill-color: #FFFFFF;\n",
              "      --disabled-bg-color: #3B4455;\n",
              "      --disabled-fill-color: #666;\n",
              "  }\n",
              "\n",
              "  .colab-df-quickchart {\n",
              "    background-color: var(--bg-color);\n",
              "    border: none;\n",
              "    border-radius: 50%;\n",
              "    cursor: pointer;\n",
              "    display: none;\n",
              "    fill: var(--fill-color);\n",
              "    height: 32px;\n",
              "    padding: 0;\n",
              "    width: 32px;\n",
              "  }\n",
              "\n",
              "  .colab-df-quickchart:hover {\n",
              "    background-color: var(--hover-bg-color);\n",
              "    box-shadow: 0 1px 2px rgba(60, 64, 67, 0.3), 0 1px 3px 1px rgba(60, 64, 67, 0.15);\n",
              "    fill: var(--button-hover-fill-color);\n",
              "  }\n",
              "\n",
              "  .colab-df-quickchart-complete:disabled,\n",
              "  .colab-df-quickchart-complete:disabled:hover {\n",
              "    background-color: var(--disabled-bg-color);\n",
              "    fill: var(--disabled-fill-color);\n",
              "    box-shadow: none;\n",
              "  }\n",
              "\n",
              "  .colab-df-spinner {\n",
              "    border: 2px solid var(--fill-color);\n",
              "    border-color: transparent;\n",
              "    border-bottom-color: var(--fill-color);\n",
              "    animation:\n",
              "      spin 1s steps(1) infinite;\n",
              "  }\n",
              "\n",
              "  @keyframes spin {\n",
              "    0% {\n",
              "      border-color: transparent;\n",
              "      border-bottom-color: var(--fill-color);\n",
              "      border-left-color: var(--fill-color);\n",
              "    }\n",
              "    20% {\n",
              "      border-color: transparent;\n",
              "      border-left-color: var(--fill-color);\n",
              "      border-top-color: var(--fill-color);\n",
              "    }\n",
              "    30% {\n",
              "      border-color: transparent;\n",
              "      border-left-color: var(--fill-color);\n",
              "      border-top-color: var(--fill-color);\n",
              "      border-right-color: var(--fill-color);\n",
              "    }\n",
              "    40% {\n",
              "      border-color: transparent;\n",
              "      border-right-color: var(--fill-color);\n",
              "      border-top-color: var(--fill-color);\n",
              "    }\n",
              "    60% {\n",
              "      border-color: transparent;\n",
              "      border-right-color: var(--fill-color);\n",
              "    }\n",
              "    80% {\n",
              "      border-color: transparent;\n",
              "      border-right-color: var(--fill-color);\n",
              "      border-bottom-color: var(--fill-color);\n",
              "    }\n",
              "    90% {\n",
              "      border-color: transparent;\n",
              "      border-bottom-color: var(--fill-color);\n",
              "    }\n",
              "  }\n",
              "</style>\n",
              "\n",
              "  <script>\n",
              "    async function quickchart(key) {\n",
              "      const quickchartButtonEl =\n",
              "        document.querySelector('#' + key + ' button');\n",
              "      quickchartButtonEl.disabled = true;  // To prevent multiple clicks.\n",
              "      quickchartButtonEl.classList.add('colab-df-spinner');\n",
              "      try {\n",
              "        const charts = await google.colab.kernel.invokeFunction(\n",
              "            'suggestCharts', [key], {});\n",
              "      } catch (error) {\n",
              "        console.error('Error during call to suggestCharts:', error);\n",
              "      }\n",
              "      quickchartButtonEl.classList.remove('colab-df-spinner');\n",
              "      quickchartButtonEl.classList.add('colab-df-quickchart-complete');\n",
              "    }\n",
              "    (() => {\n",
              "      let quickchartButtonEl =\n",
              "        document.querySelector('#df-127300a7-1b7a-4349-8e4f-d689b43fd073 button');\n",
              "      quickchartButtonEl.style.display =\n",
              "        google.colab.kernel.accessAllowed ? 'block' : 'none';\n",
              "    })();\n",
              "  </script>\n",
              "</div>\n",
              "\n",
              "  <div id=\"id_82a2244b-e69e-44cb-9644-92bc58234217\">\n",
              "    <style>\n",
              "      .colab-df-generate {\n",
              "        background-color: #E8F0FE;\n",
              "        border: none;\n",
              "        border-radius: 50%;\n",
              "        cursor: pointer;\n",
              "        display: none;\n",
              "        fill: #1967D2;\n",
              "        height: 32px;\n",
              "        padding: 0 0 0 0;\n",
              "        width: 32px;\n",
              "      }\n",
              "\n",
              "      .colab-df-generate:hover {\n",
              "        background-color: #E2EBFA;\n",
              "        box-shadow: 0px 1px 2px rgba(60, 64, 67, 0.3), 0px 1px 3px 1px rgba(60, 64, 67, 0.15);\n",
              "        fill: #174EA6;\n",
              "      }\n",
              "\n",
              "      [theme=dark] .colab-df-generate {\n",
              "        background-color: #3B4455;\n",
              "        fill: #D2E3FC;\n",
              "      }\n",
              "\n",
              "      [theme=dark] .colab-df-generate:hover {\n",
              "        background-color: #434B5C;\n",
              "        box-shadow: 0px 1px 3px 1px rgba(0, 0, 0, 0.15);\n",
              "        filter: drop-shadow(0px 1px 2px rgba(0, 0, 0, 0.3));\n",
              "        fill: #FFFFFF;\n",
              "      }\n",
              "    </style>\n",
              "    <button class=\"colab-df-generate\" onclick=\"generateWithVariable('hp_df')\"\n",
              "            title=\"Generate code using this dataframe.\"\n",
              "            style=\"display:none;\">\n",
              "\n",
              "  <svg xmlns=\"http://www.w3.org/2000/svg\" height=\"24px\"viewBox=\"0 0 24 24\"\n",
              "       width=\"24px\">\n",
              "    <path d=\"M7,19H8.4L18.45,9,17,7.55,7,17.6ZM5,21V16.75L18.45,3.32a2,2,0,0,1,2.83,0l1.4,1.43a1.91,1.91,0,0,1,.58,1.4,1.91,1.91,0,0,1-.58,1.4L9.25,21ZM18.45,9,17,7.55Zm-12,3A5.31,5.31,0,0,0,4.9,8.1,5.31,5.31,0,0,0,1,6.5,5.31,5.31,0,0,0,4.9,4.9,5.31,5.31,0,0,0,6.5,1,5.31,5.31,0,0,0,8.1,4.9,5.31,5.31,0,0,0,12,6.5,5.46,5.46,0,0,0,6.5,12Z\"/>\n",
              "  </svg>\n",
              "    </button>\n",
              "    <script>\n",
              "      (() => {\n",
              "      const buttonEl =\n",
              "        document.querySelector('#id_82a2244b-e69e-44cb-9644-92bc58234217 button.colab-df-generate');\n",
              "      buttonEl.style.display =\n",
              "        google.colab.kernel.accessAllowed ? 'block' : 'none';\n",
              "\n",
              "      buttonEl.onclick = () => {\n",
              "        google.colab.notebook.generateWithVariable('hp_df');\n",
              "      }\n",
              "      })();\n",
              "    </script>\n",
              "  </div>\n",
              "\n",
              "    </div>\n",
              "  </div>\n"
            ],
            "application/vnd.google.colaboratory.intrinsic+json": {
              "type": "dataframe",
              "variable_name": "hp_df",
              "summary": "{\n  \"name\": \"hp_df\",\n  \"rows\": 10,\n  \"fields\": [\n    {\n      \"column\": \"trial_id\",\n      \"properties\": {\n        \"dtype\": \"string\",\n        \"num_unique_values\": 10,\n        \"samples\": [\n          \"08\",\n          \"01\",\n          \"05\"\n        ],\n        \"semantic_type\": \"\",\n        \"description\": \"\"\n      }\n    },\n    {\n      \"column\": \"learning_rate\",\n      \"properties\": {\n        \"dtype\": \"number\",\n        \"std\": 0.03037849416019899,\n        \"min\": 0.00013095336445300183,\n        \"max\": 0.1,\n        \"num_unique_values\": 10,\n        \"samples\": [\n          0.018148094297344153,\n          0.00013958194407488574,\n          0.032821159591636985\n        ],\n        \"semantic_type\": \"\",\n        \"description\": \"\"\n      }\n    },\n    {\n      \"column\": \"phi_units\",\n      \"properties\": {\n        \"dtype\": \"number\",\n        \"std\": 2,\n        \"min\": 2,\n        \"max\": 8,\n        \"num_unique_values\": 4,\n        \"samples\": [\n          2,\n          6,\n          8\n        ],\n        \"semantic_type\": \"\",\n        \"description\": \"\"\n      }\n    },\n    {\n      \"column\": \"loss\",\n      \"properties\": {\n        \"dtype\": \"number\",\n        \"std\": 147.95700525645603,\n        \"min\": -20.423927307128906,\n        \"max\": 388.6257629394531,\n        \"num_unique_values\": 10,\n        \"samples\": [\n          -20.423927307128906,\n          5.516446113586426,\n          39.9345703125\n        ],\n        \"semantic_type\": \"\",\n        \"description\": \"\"\n      }\n    },\n    {\n      \"column\": \"dice\",\n      \"properties\": {\n        \"dtype\": \"number\",\n        \"std\": 0.025953488542517954,\n        \"min\": 0.5793147087097168,\n        \"max\": 0.6632675528526306,\n        \"num_unique_values\": 10,\n        \"samples\": [\n          0.5793147087097168,\n          0.6193805932998657,\n          0.5932620167732239\n        ],\n        \"semantic_type\": \"\",\n        \"description\": \"\"\n      }\n    }\n  ]\n}"
            }
          },
          "metadata": {},
          "execution_count": 16
        }
      ],
      "source": [
        "# Convert to a pandas data frame the metrics of each epoch of each trial\n",
        "df_metrics = pd.DataFrame(global_metrics)\n",
        "\n",
        "# List to store the results\n",
        "trial_results = []\n",
        "\n",
        "# Iterate over all trials\n",
        "for trial in tuner.oracle.get_best_trials(num_trials=tuner.oracle.max_trials):\n",
        "    trial_info = {\n",
        "        'trial_id': trial.trial_id,\n",
        "        'hyperparameters': trial.hyperparameters.values,\n",
        "        'loss': trial.metrics.get_best_value('val_loss')\n",
        "    }\n",
        "    trial_results.append(trial_info)\n",
        "\n",
        "# Convert the results list to a DataFrame\n",
        "df_trials = pd.DataFrame(trial_results)\n",
        "\n",
        "# Apply pd.json_normalize to expand the dictionary into new columns\n",
        "df_hyperparameters = pd.json_normalize(df_trials['hyperparameters'])\n",
        "\n",
        "# Combine the original DataFrame with the new hyperparameter columns\n",
        "hp_df = pd.concat([df_trials['trial_id'], df_hyperparameters, df_trials['loss'], df_metrics['dice']], axis=1)\n",
        "# hp_df = pd.concat([df_trials['trial_id'], df_hyperparameters, df_metrics['dice']], axis=1)\n",
        "\n",
        "\n",
        "# Display the combined DataFrame\n",
        "hp_df = hp_df.sort_values(by='trial_id')\n",
        "hp_df.to_json('hp_df.json')\n",
        "hp_df"
      ]
    },
    {
      "cell_type": "code",
      "execution_count": 17,
      "metadata": {
        "id": "_8KQAQ3ImAoJ",
        "colab": {
          "base_uri": "https://localhost:8080/",
          "height": 434
        },
        "outputId": "1ec83adb-65e2-4370-ba51-b38027377ac9"
      },
      "outputs": [
        {
          "output_type": "display_data",
          "data": {
            "text/plain": [
              "<Figure size 1200x800 with 4 Axes>"
            ],
            "image/png": "[encoded data removed]"
          },
          "metadata": {}
        }
      ],
      "source": [
        "# Plots the distributions\n",
        "plt.figure(figsize=(12, 8))\n",
        "for i, column in enumerate(hp_df.columns[1:]):\n",
        "    plt.subplot(2, 2, i+1)\n",
        "    sns.histplot(hp_df[column], kde=True)\n",
        "    plt.title(column)\n",
        "\n",
        "plt.tight_layout()\n",
        "plt.show()"
      ]
    },
    {
      "cell_type": "code",
      "execution_count": 18,
      "metadata": {
        "id": "b_EnU_Y4mMjS",
        "colab": {
          "base_uri": "https://localhost:8080/",
          "height": 392
        },
        "outputId": "53d9a75d-e54e-4307-e21f-5a24d2cda2fd"
      },
      "outputs": [
        {
          "output_type": "display_data",
          "data": {
            "text/plain": [
              "<Figure size 1000x600 with 2 Axes>"
            ],
            "image/png": "[encoded data removed]"
          },
          "metadata": {}
        }
      ],
      "source": [
        "columns_to_log_scale = ['learning_rate']\n",
        "# Plot hyperparameters values vs loss value\n",
        "fig,axes = plt.subplots(1, 2, figsize=(10, 6))\n",
        "\n",
        "# Iterate over each subplot and the corresponding scatterplot is created.\n",
        "for (column, ax) in zip(hp_df.iloc[:, 1:4], axes.flatten()):\n",
        "    sns.scatterplot(x=hp_df[column], y=hp_df['loss'], hue=hp_df['loss'], palette='viridis', ax=ax, legend=False)\n",
        "    ax.set_xlabel(column)\n",
        "    if hp_df[column].name in columns_to_log_scale:\n",
        "        ax.set_xscale('log')\n",
        "    ax.set_ylabel('Loss value')\n",
        "    ax.set_title(f'{column} vs Loss value')\n",
        "\n",
        "# Adjust the design and show the figure\n",
        "plt.tight_layout()\n",
        "plt.show()"
      ]
    },
    {
      "cell_type": "code",
      "execution_count": 19,
      "metadata": {
        "id": "z2xJRTVmmO7S",
        "colab": {
          "base_uri": "https://localhost:8080/",
          "height": 392
        },
        "outputId": "47b52368-388c-493a-abea-b9a442fcccd4"
      },
      "outputs": [
        {
          "output_type": "display_data",
          "data": {
            "text/plain": [
              "<Figure size 1000x600 with 2 Axes>"
            ],
            "image/png": "[encoded data removed]"
          },
          "metadata": {}
        }
      ],
      "source": [
        "columns_to_log_scale = ['learning_rate']\n",
        "# Plot hyperparameters values vs loss value\n",
        "fig,axes = plt.subplots(1, 2, figsize=(10, 6))\n",
        "\n",
        "# Iterate over each subplot and the corresponding scatterplot is created.\n",
        "for (column, ax) in zip(hp_df.iloc[:, 1:4], axes.flatten()):\n",
        "    sns.scatterplot(x=hp_df[column], y=hp_df['dice'], hue=hp_df['dice'], palette='viridis', ax=ax, legend=False)\n",
        "    ax.set_xlabel(column)\n",
        "    if hp_df[column].name in columns_to_log_scale:\n",
        "        ax.set_xscale('log')\n",
        "    ax.set_ylabel('DICE value')\n",
        "    ax.set_title(f'{column} vs DICE value')\n",
        "\n",
        "# Adjust the design and show the figure\n",
        "plt.tight_layout()\n",
        "plt.show()"
      ]
    },
    {
      "cell_type": "code",
      "execution_count": 20,
      "metadata": {
        "id": "rMfEm_tvmSCC",
        "colab": {
          "base_uri": "https://localhost:8080/",
          "height": 848
        },
        "outputId": "e7ae70fd-2c61-41df-fea9-36a4ff90f6d1"
      },
      "outputs": [
        {
          "output_type": "display_data",
          "data": {
            "text/plain": [
              "<Figure size 640x480 with 2 Axes>"
            ],
            "image/png": "[encoded data removed]"
          },
          "metadata": {}
        },
        {
          "output_type": "display_data",
          "data": {
            "text/plain": [
              "<Figure size 640x480 with 1 Axes>"
            ],
            "image/png": "[encoded data removed]"
          },
          "metadata": {}
        }
      ],
      "source": [
        "# Plot a heatmap of the learning rate and q hyperparameters\n",
        "plt.pcolormesh(hp_df[['learning_rate', 'phi_units']].values)\n",
        "plt.colorbar()  # Add a colorbar\n",
        "plt.show()\n",
        "\n",
        "# Plot the loss values over trials\n",
        "plt.plot(hp_df['loss'].values, label='Loss', linestyle='-', color='blue')\n",
        "\n",
        "# Plot the dice metric values over trials\n",
        "plt.plot(hp_df['dice'].values, label='Dice Metric', linestyle='-', color='orange')\n",
        "\n",
        "# Add a legend to differentiate between the loss and dice metric plots\n",
        "plt.legend()\n",
        "\n",
        "# Display the line plots\n",
        "plt.show()"
      ]
    },
    {
      "cell_type": "code",
      "execution_count": 21,
      "metadata": {
        "id": "7J6CGiabmVCp"
      },
      "outputs": [],
      "source": [
        "# Call the _vectorize_trials method from the tuner oracle\n",
        "# This method converts the hyperparameter configurations of trials into vector representations (X)\n",
        "# and pairs these vectors with their corresponding performance scores (y)\n",
        "X, y = tuner.oracle._vectorize_trials()\n",
        "\n",
        "# Generate 300 points evenly spaced between the minimum and maximum values of the first feature in X\n",
        "# Add a small buffer (0.00003) to the minimum and maximum to avoid edge effects\n",
        "hp_1 = np.linspace(X[:,0].min() - 0.00003, X[:,0].max() + 0.00003, 300)\n",
        "\n",
        "# Generate 300 points evenly spaced between the minimum and maximum values of the second feature in X\n",
        "# Add a small buffer (0.00003) to the minimum and maximum to avoid edge effects\n",
        "hp_2 = np.linspace(X[:,1].min() - 0.00003, X[:,1].max() + 0.00003, 300)"
      ]
    },
    {
      "cell_type": "code",
      "execution_count": 22,
      "metadata": {
        "id": "OlGdmh-_mbEL"
      },
      "outputs": [],
      "source": [
        "# Create a meshgrid for the input space\n",
        "Xx, Yy = np.meshgrid(hp_1, hp_2)\n",
        "\n",
        "# Stack the meshgrid arrays to create the input for prediction\n",
        "XY = np.vstack([Xx.ravel(), Yy.ravel()]).T\n",
        "\n",
        "# Make predictions using the Gaussian Process model\n",
        "mean, std = gp.predict(XY, return_std=True)\n",
        "\n",
        "# Reshape the predictions to match the shape of the meshgrid\n",
        "mean = mean.reshape(Xx.shape)\n",
        "std = std.reshape(Xx.shape)"
      ]
    },
    {
      "cell_type": "code",
      "execution_count": 23,
      "metadata": {
        "id": "Lic8ChUzmgKa",
        "colab": {
          "base_uri": "https://localhost:8080/",
          "height": 282
        },
        "outputId": "1ff2b2ea-637c-4978-ee7e-4ef1408531e0"
      },
      "outputs": [
        {
          "output_type": "display_data",
          "data": {
            "text/plain": [
              "<Figure size 1600x700 with 4 Axes>"
            ],
            "image/png": "[encoded data removed]"
          },
          "metadata": {}
        }
      ],
      "source": [
        "# Plot the results\n",
        "plt.figure(figsize=(16, 7))\n",
        "\n",
        "# Heatmap of the mean prediction\n",
        "plt.subplot(1, 2, 1)\n",
        "plt.title('Mean Prediction')\n",
        "plt.xlabel('Learning rate')\n",
        "plt.ylabel('phi_units')\n",
        "# Plot the heatmap of the mean prediction using contourf\n",
        "heatmap1 = plt.contourf(hp_1, hp_2, mean, cmap='viridis', aspect='auto')  # Adjust the axis scaling\n",
        "plt.colorbar(heatmap1)  # Add a colorbar\n",
        "plt.scatter(X[:, 0], X[:, 1], c='white', s=50, edgecolors='k') # Scatter plot of the data points in white with black edges\n",
        "\n",
        "# Heatmap of the uncertainty (standard deviation)\n",
        "plt.subplot(1, 2, 2)\n",
        "plt.title('Uncertainty (Standard Deviation)')\n",
        "plt.xlabel('Learning rate')\n",
        "plt.ylabel('phi_units')\n",
        "# Plot the heatmap of the standard deviation using contourf\n",
        "heatmap2 = plt.contourf(hp_1, hp_2, std, cmap='viridis', aspect='auto')  # Adjust the axis scaling\n",
        "plt.colorbar(heatmap2)  # Add a colorbar\n",
        "plt.scatter(X[:, 0], X[:, 1], c='white', s=50, edgecolors='k') # Scatter plot of the data points in white with black edges\n",
        "\n",
        "# Adjust the spacing between subplots to prevent overlap\n",
        "plt.tight_layout(pad=3.0)\n",
        "# Display the plots\n",
        "plt.show()"
      ]
    },
    {
      "cell_type": "markdown",
      "metadata": {
        "id": "N5ZB-wcE6drP"
      },
      "source": [
        "# Guardar en Repo GitHub"
      ]
    },
    {
      "cell_type": "code",
      "execution_count": 24,
      "metadata": {
        "id": "OCeCVAMbBhQH"
      },
      "outputs": [],
      "source": [
        "# path_token = \"/content/drive/MyDrive/____UTP/tokens/token_colab.py\"\n",
        "# # Lee el token de tu Google Drive\n",
        "# with open(path_token, 'r') as token_file:\n",
        "#     token = token_file.read().strip()\n",
        "\n",
        "# # Configura el comando git para usar el token\n",
        "# os.system(\"git config --global user.email 'craljimenez@utp.edu.co'\")\n",
        "# os.system(\"git config --global user.name 'Cristian Jimenez Colab'\")\n",
        "# os.system(f\"git remote set-url origin https://{token}@github.com/cralji/Deep_Krein_RF.git\")"
      ]
    },
    {
      "cell_type": "code",
      "execution_count": 25,
      "metadata": {
        "id": "ti0HxKth6MkY"
      },
      "outputs": [],
      "source": [
        "\n",
        "# Hacer commit y push de los cambios\n",
        "# !git add .\n",
        "# !git commit -m \"Se Corrige paquetes no introducidos en losses.py\"\n",
        "# !git push origin main\n",
        "\n",
        "# # Hacer pull de los cambios remotos\n",
        "# !git pull origin main"
      ]
    },
    {
      "cell_type": "code",
      "execution_count": 26,
      "metadata": {
        "id": "KFG5-VoWyBpp"
      },
      "outputs": [],
      "source": [
        "# !git status\n"
      ]
    },
    {
      "cell_type": "code",
      "source": [
        "tf."
      ],
      "metadata": {
        "id": "BPpYXtNCiR7Z"
      },
      "execution_count": null,
      "outputs": []
    }
  ],
  "metadata": {
    "accelerator": "GPU",
    "colab": {
      "gpuType": "A100",
      "machine_shape": "hm",
      "provenance": [],
      "mount_file_id": "1JekEOj2zvvmJA2leXqgj2P9TY_FguuNS",
      "authorship_tag": "ABX9TyPP6M9qcoNBkn8+u1Rw8XPK",
      "include_colab_link": true
    },
    "kernelspec": {
      "display_name": "Python 3",
      "name": "python3"
    },
    "language_info": {
      "name": "python"
    },
    "widgets": {
      "application/vnd.jupyter.widget-state+json": {
        "ae570b4508e14a679073840be937ec32": {
          "model_module": "@jupyter-widgets/controls",
          "model_name": "HBoxModel",
          "model_module_version": "1.5.0",
          "state": {
            "_dom_classes": [],
            "_model_module": "@jupyter-widgets/controls",
            "_model_module_version": "1.5.0",
            "_model_name": "HBoxModel",
            "_view_count": null,
            "_view_module": "@jupyter-widgets/controls",
            "_view_module_version": "1.5.0",
            "_view_name": "HBoxView",
            "box_style": "",
            "children": [
              "IPY_MODEL_aabda933902c44aab4278102888cb0d6",
              "IPY_MODEL_bc71ea0e67d842e6ab2f780e20e07fb8",
              "IPY_MODEL_f93a571ffed7447bad6a17c9f2c537fd"
            ],
            "layout": "IPY_MODEL_3ec5044b86cf4dd2a452b367404dccff"
          }
        },
        "aabda933902c44aab4278102888cb0d6": {
          "model_module": "@jupyter-widgets/controls",
          "model_name": "HTMLModel",
          "model_module_version": "1.5.0",
          "state": {
            "_dom_classes": [],
            "_model_module": "@jupyter-widgets/controls",
            "_model_module_version": "1.5.0",
            "_model_name": "HTMLModel",
            "_view_count": null,
            "_view_module": "@jupyter-widgets/controls",
            "_view_module_version": "1.5.0",
            "_view_name": "HTMLView",
            "description": "",
            "description_tooltip": null,
            "layout": "IPY_MODEL_b4b52c510fb44900b48e7a856ef5c415",
            "placeholder": "​",
            "style": "IPY_MODEL_f5d9dc58b5704486a12c18cbf1928011",
            "value": "Dl Completed...:  50%"
          }
        },
        "bc71ea0e67d842e6ab2f780e20e07fb8": {
          "model_module": "@jupyter-widgets/controls",
          "model_name": "FloatProgressModel",
          "model_module_version": "1.5.0",
          "state": {
            "_dom_classes": [],
            "_model_module": "@jupyter-widgets/controls",
            "_model_module_version": "1.5.0",
            "_model_name": "FloatProgressModel",
            "_view_count": null,
            "_view_module": "@jupyter-widgets/controls",
            "_view_module_version": "1.5.0",
            "_view_name": "ProgressView",
            "bar_style": "info",
            "description": "",
            "description_tooltip": null,
            "layout": "IPY_MODEL_631f53ee10514ed48f84a6840d46b990",
            "max": 1,
            "min": 0,
            "orientation": "horizontal",
            "style": "IPY_MODEL_0e8747af669747739215ffcb0efd007f",
            "value": 1
          }
        },
        "f93a571ffed7447bad6a17c9f2c537fd": {
          "model_module": "@jupyter-widgets/controls",
          "model_name": "HTMLModel",
          "model_module_version": "1.5.0",
          "state": {
            "_dom_classes": [],
            "_model_module": "@jupyter-widgets/controls",
            "_model_module_version": "1.5.0",
            "_model_name": "HTMLModel",
            "_view_count": null,
            "_view_module": "@jupyter-widgets/controls",
            "_view_module_version": "1.5.0",
            "_view_name": "HTMLView",
            "description": "",
            "description_tooltip": null,
            "layout": "IPY_MODEL_437f6065827044ee9e07ebace7d71898",
            "placeholder": "​",
            "style": "IPY_MODEL_7a32de033e0c45419057ab42a4718b89",
            "value": " 1/2 [00:10&lt;00:05,  5.01s/ url]"
          }
        },
        "3ec5044b86cf4dd2a452b367404dccff": {
          "model_module": "@jupyter-widgets/base",
          "model_name": "LayoutModel",
          "model_module_version": "1.2.0",
          "state": {
            "_model_module": "@jupyter-widgets/base",
            "_model_module_version": "1.2.0",
            "_model_name": "LayoutModel",
            "_view_count": null,
            "_view_module": "@jupyter-widgets/base",
            "_view_module_version": "1.2.0",
            "_view_name": "LayoutView",
            "align_content": null,
            "align_items": null,
            "align_self": null,
            "border": null,
            "bottom": null,
            "display": null,
            "flex": null,
            "flex_flow": null,
            "grid_area": null,
            "grid_auto_columns": null,
            "grid_auto_flow": null,
            "grid_auto_rows": null,
            "grid_column": null,
            "grid_gap": null,
            "grid_row": null,
            "grid_template_areas": null,
            "grid_template_columns": null,
            "grid_template_rows": null,
            "height": null,
            "justify_content": null,
            "justify_items": null,
            "left": null,
            "margin": null,
            "max_height": null,
            "max_width": null,
            "min_height": null,
            "min_width": null,
            "object_fit": null,
            "object_position": null,
            "order": null,
            "overflow": null,
            "overflow_x": null,
            "overflow_y": null,
            "padding": null,
            "right": null,
            "top": null,
            "visibility": null,
            "width": null
          }
        },
        "b4b52c510fb44900b48e7a856ef5c415": {
          "model_module": "@jupyter-widgets/base",
          "model_name": "LayoutModel",
          "model_module_version": "1.2.0",
          "state": {
            "_model_module": "@jupyter-widgets/base",
            "_model_module_version": "1.2.0",
            "_model_name": "LayoutModel",
            "_view_count": null,
            "_view_module": "@jupyter-widgets/base",
            "_view_module_version": "1.2.0",
            "_view_name": "LayoutView",
            "align_content": null,
            "align_items": null,
            "align_self": null,
            "border": null,
            "bottom": null,
            "display": null,
            "flex": null,
            "flex_flow": null,
            "grid_area": null,
            "grid_auto_columns": null,
            "grid_auto_flow": null,
            "grid_auto_rows": null,
            "grid_column": null,
            "grid_gap": null,
            "grid_row": null,
            "grid_template_areas": null,
            "grid_template_columns": null,
            "grid_template_rows": null,
            "height": null,
            "justify_content": null,
            "justify_items": null,
            "left": null,
            "margin": null,
            "max_height": null,
            "max_width": null,
            "min_height": null,
            "min_width": null,
            "object_fit": null,
            "object_position": null,
            "order": null,
            "overflow": null,
            "overflow_x": null,
            "overflow_y": null,
            "padding": null,
            "right": null,
            "top": null,
            "visibility": null,
            "width": null
          }
        },
        "f5d9dc58b5704486a12c18cbf1928011": {
          "model_module": "@jupyter-widgets/controls",
          "model_name": "DescriptionStyleModel",
          "model_module_version": "1.5.0",
          "state": {
            "_model_module": "@jupyter-widgets/controls",
            "_model_module_version": "1.5.0",
            "_model_name": "DescriptionStyleModel",
            "_view_count": null,
            "_view_module": "@jupyter-widgets/base",
            "_view_module_version": "1.2.0",
            "_view_name": "StyleView",
            "description_width": ""
          }
        },
        "631f53ee10514ed48f84a6840d46b990": {
          "model_module": "@jupyter-widgets/base",
          "model_name": "LayoutModel",
          "model_module_version": "1.2.0",
          "state": {
            "_model_module": "@jupyter-widgets/base",
            "_model_module_version": "1.2.0",
            "_model_name": "LayoutModel",
            "_view_count": null,
            "_view_module": "@jupyter-widgets/base",
            "_view_module_version": "1.2.0",
            "_view_name": "LayoutView",
            "align_content": null,
            "align_items": null,
            "align_self": null,
            "border": null,
            "bottom": null,
            "display": null,
            "flex": null,
            "flex_flow": null,
            "grid_area": null,
            "grid_auto_columns": null,
            "grid_auto_flow": null,
            "grid_auto_rows": null,
            "grid_column": null,
            "grid_gap": null,
            "grid_row": null,
            "grid_template_areas": null,
            "grid_template_columns": null,
            "grid_template_rows": null,
            "height": null,
            "justify_content": null,
            "justify_items": null,
            "left": null,
            "margin": null,
            "max_height": null,
            "max_width": null,
            "min_height": null,
            "min_width": null,
            "object_fit": null,
            "object_position": null,
            "order": null,
            "overflow": null,
            "overflow_x": null,
            "overflow_y": null,
            "padding": null,
            "right": null,
            "top": null,
            "visibility": null,
            "width": "20px"
          }
        },
        "0e8747af669747739215ffcb0efd007f": {
          "model_module": "@jupyter-widgets/controls",
          "model_name": "ProgressStyleModel",
          "model_module_version": "1.5.0",
          "state": {
            "_model_module": "@jupyter-widgets/controls",
            "_model_module_version": "1.5.0",
            "_model_name": "ProgressStyleModel",
            "_view_count": null,
            "_view_module": "@jupyter-widgets/base",
            "_view_module_version": "1.2.0",
            "_view_name": "StyleView",
            "bar_color": null,
            "description_width": ""
          }
        },
        "437f6065827044ee9e07ebace7d71898": {
          "model_module": "@jupyter-widgets/base",
          "model_name": "LayoutModel",
          "model_module_version": "1.2.0",
          "state": {
            "_model_module": "@jupyter-widgets/base",
            "_model_module_version": "1.2.0",
            "_model_name": "LayoutModel",
            "_view_count": null,
            "_view_module": "@jupyter-widgets/base",
            "_view_module_version": "1.2.0",
            "_view_name": "LayoutView",
            "align_content": null,
            "align_items": null,
            "align_self": null,
            "border": null,
            "bottom": null,
            "display": null,
            "flex": null,
            "flex_flow": null,
            "grid_area": null,
            "grid_auto_columns": null,
            "grid_auto_flow": null,
            "grid_auto_rows": null,
            "grid_column": null,
            "grid_gap": null,
            "grid_row": null,
            "grid_template_areas": null,
            "grid_template_columns": null,
            "grid_template_rows": null,
            "height": null,
            "justify_content": null,
            "justify_items": null,
            "left": null,
            "margin": null,
            "max_height": null,
            "max_width": null,
            "min_height": null,
            "min_width": null,
            "object_fit": null,
            "object_position": null,
            "order": null,
            "overflow": null,
            "overflow_x": null,
            "overflow_y": null,
            "padding": null,
            "right": null,
            "top": null,
            "visibility": null,
            "width": null
          }
        },
        "7a32de033e0c45419057ab42a4718b89": {
          "model_module": "@jupyter-widgets/controls",
          "model_name": "DescriptionStyleModel",
          "model_module_version": "1.5.0",
          "state": {
            "_model_module": "@jupyter-widgets/controls",
            "_model_module_version": "1.5.0",
            "_model_name": "DescriptionStyleModel",
            "_view_count": null,
            "_view_module": "@jupyter-widgets/base",
            "_view_module_version": "1.2.0",
            "_view_name": "StyleView",
            "description_width": ""
          }
        },
        "06fa9d0ba8c24beba31929e98c41f735": {
          "model_module": "@jupyter-widgets/controls",
          "model_name": "HBoxModel",
          "model_module_version": "1.5.0",
          "state": {
            "_dom_classes": [],
            "_model_module": "@jupyter-widgets/controls",
            "_model_module_version": "1.5.0",
            "_model_name": "HBoxModel",
            "_view_count": null,
            "_view_module": "@jupyter-widgets/controls",
            "_view_module_version": "1.5.0",
            "_view_name": "HBoxView",
            "box_style": "",
            "children": [
              "IPY_MODEL_49efa64f2a9549c78caa72a38d6d9c49",
              "IPY_MODEL_06a2dec73ee845b49cd01a71d738e37e",
              "IPY_MODEL_fa29fb60d1a14745b9cce5def0a44e8b"
            ],
            "layout": "IPY_MODEL_1cb1f919e79f4a2185ab7586b2684b71"
          }
        },
        "49efa64f2a9549c78caa72a38d6d9c49": {
          "model_module": "@jupyter-widgets/controls",
          "model_name": "HTMLModel",
          "model_module_version": "1.5.0",
          "state": {
            "_dom_classes": [],
            "_model_module": "@jupyter-widgets/controls",
            "_model_module_version": "1.5.0",
            "_model_name": "HTMLModel",
            "_view_count": null,
            "_view_module": "@jupyter-widgets/controls",
            "_view_module_version": "1.5.0",
            "_view_name": "HTMLView",
            "description": "",
            "description_tooltip": null,
            "layout": "IPY_MODEL_070b0b50bc7b428abdd006b085c4a889",
            "placeholder": "​",
            "style": "IPY_MODEL_355a9808010c467eaeec178712e8bb3a",
            "value": "Dl Size...:   6%"
          }
        },
        "06a2dec73ee845b49cd01a71d738e37e": {
          "model_module": "@jupyter-widgets/controls",
          "model_name": "FloatProgressModel",
          "model_module_version": "1.5.0",
          "state": {
            "_dom_classes": [],
            "_model_module": "@jupyter-widgets/controls",
            "_model_module_version": "1.5.0",
            "_model_name": "FloatProgressModel",
            "_view_count": null,
            "_view_module": "@jupyter-widgets/controls",
            "_view_module_version": "1.5.0",
            "_view_name": "ProgressView",
            "bar_style": "info",
            "description": "",
            "description_tooltip": null,
            "layout": "IPY_MODEL_0a482cf185814269877969b4356f2c37",
            "max": 1,
            "min": 0,
            "orientation": "horizontal",
            "style": "IPY_MODEL_5d463e3bd4844321bf774d934269fea5",
            "value": 1
          }
        },
        "fa29fb60d1a14745b9cce5def0a44e8b": {
          "model_module": "@jupyter-widgets/controls",
          "model_name": "HTMLModel",
          "model_module_version": "1.5.0",
          "state": {
            "_dom_classes": [],
            "_model_module": "@jupyter-widgets/controls",
            "_model_module_version": "1.5.0",
            "_model_name": "HTMLModel",
            "_view_count": null,
            "_view_module": "@jupyter-widgets/controls",
            "_view_module_version": "1.5.0",
            "_view_name": "HTMLView",
            "description": "",
            "description_tooltip": null,
            "layout": "IPY_MODEL_d1643fae7acb4e7f86e36b8c52886a3f",
            "placeholder": "​",
            "style": "IPY_MODEL_dea98dc7332947a4beede553ae80fe9c",
            "value": " 49/773 [00:10&lt;02:25,  4.99 MiB/s]"
          }
        },
        "1cb1f919e79f4a2185ab7586b2684b71": {
          "model_module": "@jupyter-widgets/base",
          "model_name": "LayoutModel",
          "model_module_version": "1.2.0",
          "state": {
            "_model_module": "@jupyter-widgets/base",
            "_model_module_version": "1.2.0",
            "_model_name": "LayoutModel",
            "_view_count": null,
            "_view_module": "@jupyter-widgets/base",
            "_view_module_version": "1.2.0",
            "_view_name": "LayoutView",
            "align_content": null,
            "align_items": null,
            "align_self": null,
            "border": null,
            "bottom": null,
            "display": null,
            "flex": null,
            "flex_flow": null,
            "grid_area": null,
            "grid_auto_columns": null,
            "grid_auto_flow": null,
            "grid_auto_rows": null,
            "grid_column": null,
            "grid_gap": null,
            "grid_row": null,
            "grid_template_areas": null,
            "grid_template_columns": null,
            "grid_template_rows": null,
            "height": null,
            "justify_content": null,
            "justify_items": null,
            "left": null,
            "margin": null,
            "max_height": null,
            "max_width": null,
            "min_height": null,
            "min_width": null,
            "object_fit": null,
            "object_position": null,
            "order": null,
            "overflow": null,
            "overflow_x": null,
            "overflow_y": null,
            "padding": null,
            "right": null,
            "top": null,
            "visibility": null,
            "width": null
          }
        },
        "070b0b50bc7b428abdd006b085c4a889": {
          "model_module": "@jupyter-widgets/base",
          "model_name": "LayoutModel",
          "model_module_version": "1.2.0",
          "state": {
            "_model_module": "@jupyter-widgets/base",
            "_model_module_version": "1.2.0",
            "_model_name": "LayoutModel",
            "_view_count": null,
            "_view_module": "@jupyter-widgets/base",
            "_view_module_version": "1.2.0",
            "_view_name": "LayoutView",
            "align_content": null,
            "align_items": null,
            "align_self": null,
            "border": null,
            "bottom": null,
            "display": null,
            "flex": null,
            "flex_flow": null,
            "grid_area": null,
            "grid_auto_columns": null,
            "grid_auto_flow": null,
            "grid_auto_rows": null,
            "grid_column": null,
            "grid_gap": null,
            "grid_row": null,
            "grid_template_areas": null,
            "grid_template_columns": null,
            "grid_template_rows": null,
            "height": null,
            "justify_content": null,
            "justify_items": null,
            "left": null,
            "margin": null,
            "max_height": null,
            "max_width": null,
            "min_height": null,
            "min_width": null,
            "object_fit": null,
            "object_position": null,
            "order": null,
            "overflow": null,
            "overflow_x": null,
            "overflow_y": null,
            "padding": null,
            "right": null,
            "top": null,
            "visibility": null,
            "width": null
          }
        },
        "355a9808010c467eaeec178712e8bb3a": {
          "model_module": "@jupyter-widgets/controls",
          "model_name": "DescriptionStyleModel",
          "model_module_version": "1.5.0",
          "state": {
            "_model_module": "@jupyter-widgets/controls",
            "_model_module_version": "1.5.0",
            "_model_name": "DescriptionStyleModel",
            "_view_count": null,
            "_view_module": "@jupyter-widgets/base",
            "_view_module_version": "1.2.0",
            "_view_name": "StyleView",
            "description_width": ""
          }
        },
        "0a482cf185814269877969b4356f2c37": {
          "model_module": "@jupyter-widgets/base",
          "model_name": "LayoutModel",
          "model_module_version": "1.2.0",
          "state": {
            "_model_module": "@jupyter-widgets/base",
            "_model_module_version": "1.2.0",
            "_model_name": "LayoutModel",
            "_view_count": null,
            "_view_module": "@jupyter-widgets/base",
            "_view_module_version": "1.2.0",
            "_view_name": "LayoutView",
            "align_content": null,
            "align_items": null,
            "align_self": null,
            "border": null,
            "bottom": null,
            "display": null,
            "flex": null,
            "flex_flow": null,
            "grid_area": null,
            "grid_auto_columns": null,
            "grid_auto_flow": null,
            "grid_auto_rows": null,
            "grid_column": null,
            "grid_gap": null,
            "grid_row": null,
            "grid_template_areas": null,
            "grid_template_columns": null,
            "grid_template_rows": null,
            "height": null,
            "justify_content": null,
            "justify_items": null,
            "left": null,
            "margin": null,
            "max_height": null,
            "max_width": null,
            "min_height": null,
            "min_width": null,
            "object_fit": null,
            "object_position": null,
            "order": null,
            "overflow": null,
            "overflow_x": null,
            "overflow_y": null,
            "padding": null,
            "right": null,
            "top": null,
            "visibility": null,
            "width": "20px"
          }
        },
        "5d463e3bd4844321bf774d934269fea5": {
          "model_module": "@jupyter-widgets/controls",
          "model_name": "ProgressStyleModel",
          "model_module_version": "1.5.0",
          "state": {
            "_model_module": "@jupyter-widgets/controls",
            "_model_module_version": "1.5.0",
            "_model_name": "ProgressStyleModel",
            "_view_count": null,
            "_view_module": "@jupyter-widgets/base",
            "_view_module_version": "1.2.0",
            "_view_name": "StyleView",
            "bar_color": null,
            "description_width": ""
          }
        },
        "d1643fae7acb4e7f86e36b8c52886a3f": {
          "model_module": "@jupyter-widgets/base",
          "model_name": "LayoutModel",
          "model_module_version": "1.2.0",
          "state": {
            "_model_module": "@jupyter-widgets/base",
            "_model_module_version": "1.2.0",
            "_model_name": "LayoutModel",
            "_view_count": null,
            "_view_module": "@jupyter-widgets/base",
            "_view_module_version": "1.2.0",
            "_view_name": "LayoutView",
            "align_content": null,
            "align_items": null,
            "align_self": null,
            "border": null,
            "bottom": null,
            "display": null,
            "flex": null,
            "flex_flow": null,
            "grid_area": null,
            "grid_auto_columns": null,
            "grid_auto_flow": null,
            "grid_auto_rows": null,
            "grid_column": null,
            "grid_gap": null,
            "grid_row": null,
            "grid_template_areas": null,
            "grid_template_columns": null,
            "grid_template_rows": null,
            "height": null,
            "justify_content": null,
            "justify_items": null,
            "left": null,
            "margin": null,
            "max_height": null,
            "max_width": null,
            "min_height": null,
            "min_width": null,
            "object_fit": null,
            "object_position": null,
            "order": null,
            "overflow": null,
            "overflow_x": null,
            "overflow_y": null,
            "padding": null,
            "right": null,
            "top": null,
            "visibility": null,
            "width": null
          }
        },
        "dea98dc7332947a4beede553ae80fe9c": {
          "model_module": "@jupyter-widgets/controls",
          "model_name": "DescriptionStyleModel",
          "model_module_version": "1.5.0",
          "state": {
            "_model_module": "@jupyter-widgets/controls",
            "_model_module_version": "1.5.0",
            "_model_name": "DescriptionStyleModel",
            "_view_count": null,
            "_view_module": "@jupyter-widgets/base",
            "_view_module_version": "1.2.0",
            "_view_name": "StyleView",
            "description_width": ""
          }
        },
        "2af929933cdb46b9a212f6e533e29f04": {
          "model_module": "@jupyter-widgets/controls",
          "model_name": "HBoxModel",
          "model_module_version": "1.5.0",
          "state": {
            "_dom_classes": [],
            "_model_module": "@jupyter-widgets/controls",
            "_model_module_version": "1.5.0",
            "_model_name": "HBoxModel",
            "_view_count": null,
            "_view_module": "@jupyter-widgets/controls",
            "_view_module_version": "1.5.0",
            "_view_name": "HBoxView",
            "box_style": "",
            "children": [
              "IPY_MODEL_9cac7a16d11b42ef87d3f32d6c8ab1be",
              "IPY_MODEL_84eaf667cd08412e838444952764f638",
              "IPY_MODEL_7cc6bed61a434f4cbe677d3a4292a20c"
            ],
            "layout": "IPY_MODEL_075e06e8bf5841fd8da94d018d3be1f9"
          }
        },
        "9cac7a16d11b42ef87d3f32d6c8ab1be": {
          "model_module": "@jupyter-widgets/controls",
          "model_name": "HTMLModel",
          "model_module_version": "1.5.0",
          "state": {
            "_dom_classes": [],
            "_model_module": "@jupyter-widgets/controls",
            "_model_module_version": "1.5.0",
            "_model_name": "HTMLModel",
            "_view_count": null,
            "_view_module": "@jupyter-widgets/controls",
            "_view_module_version": "1.5.0",
            "_view_name": "HTMLView",
            "description": "",
            "description_tooltip": null,
            "layout": "IPY_MODEL_ce66e9331718423393894416454c98b6",
            "placeholder": "​",
            "style": "IPY_MODEL_e8599c6fa5dd4c2996006cf80aa6a8f1",
            "value": "Extraction completed...:   0%"
          }
        },
        "84eaf667cd08412e838444952764f638": {
          "model_module": "@jupyter-widgets/controls",
          "model_name": "FloatProgressModel",
          "model_module_version": "1.5.0",
          "state": {
            "_dom_classes": [],
            "_model_module": "@jupyter-widgets/controls",
            "_model_module_version": "1.5.0",
            "_model_name": "FloatProgressModel",
            "_view_count": null,
            "_view_module": "@jupyter-widgets/controls",
            "_view_module_version": "1.5.0",
            "_view_name": "ProgressView",
            "bar_style": "info",
            "description": "",
            "description_tooltip": null,
            "layout": "IPY_MODEL_519c46e3e737479383a78d608247dca6",
            "max": 1,
            "min": 0,
            "orientation": "horizontal",
            "style": "IPY_MODEL_11480bbea1634d73aa1622a1603db395",
            "value": 0
          }
        },
        "7cc6bed61a434f4cbe677d3a4292a20c": {
          "model_module": "@jupyter-widgets/controls",
          "model_name": "HTMLModel",
          "model_module_version": "1.5.0",
          "state": {
            "_dom_classes": [],
            "_model_module": "@jupyter-widgets/controls",
            "_model_module_version": "1.5.0",
            "_model_name": "HTMLModel",
            "_view_count": null,
            "_view_module": "@jupyter-widgets/controls",
            "_view_module_version": "1.5.0",
            "_view_name": "HTMLView",
            "description": "",
            "description_tooltip": null,
            "layout": "IPY_MODEL_cb2149155e274d7b948f16feef8ac82b",
            "placeholder": "​",
            "style": "IPY_MODEL_1674bece9fdd4bf9bf5371757ba1eac9",
            "value": " 0/5859 [00:10&lt;?, ? file/s]"
          }
        },
        "075e06e8bf5841fd8da94d018d3be1f9": {
          "model_module": "@jupyter-widgets/base",
          "model_name": "LayoutModel",
          "model_module_version": "1.2.0",
          "state": {
            "_model_module": "@jupyter-widgets/base",
            "_model_module_version": "1.2.0",
            "_model_name": "LayoutModel",
            "_view_count": null,
            "_view_module": "@jupyter-widgets/base",
            "_view_module_version": "1.2.0",
            "_view_name": "LayoutView",
            "align_content": null,
            "align_items": null,
            "align_self": null,
            "border": null,
            "bottom": null,
            "display": null,
            "flex": null,
            "flex_flow": null,
            "grid_area": null,
            "grid_auto_columns": null,
            "grid_auto_flow": null,
            "grid_auto_rows": null,
            "grid_column": null,
            "grid_gap": null,
            "grid_row": null,
            "grid_template_areas": null,
            "grid_template_columns": null,
            "grid_template_rows": null,
            "height": null,
            "justify_content": null,
            "justify_items": null,
            "left": null,
            "margin": null,
            "max_height": null,
            "max_width": null,
            "min_height": null,
            "min_width": null,
            "object_fit": null,
            "object_position": null,
            "order": null,
            "overflow": null,
            "overflow_x": null,
            "overflow_y": null,
            "padding": null,
            "right": null,
            "top": null,
            "visibility": null,
            "width": null
          }
        },
        "ce66e9331718423393894416454c98b6": {
          "model_module": "@jupyter-widgets/base",
          "model_name": "LayoutModel",
          "model_module_version": "1.2.0",
          "state": {
            "_model_module": "@jupyter-widgets/base",
            "_model_module_version": "1.2.0",
            "_model_name": "LayoutModel",
            "_view_count": null,
            "_view_module": "@jupyter-widgets/base",
            "_view_module_version": "1.2.0",
            "_view_name": "LayoutView",
            "align_content": null,
            "align_items": null,
            "align_self": null,
            "border": null,
            "bottom": null,
            "display": null,
            "flex": null,
            "flex_flow": null,
            "grid_area": null,
            "grid_auto_columns": null,
            "grid_auto_flow": null,
            "grid_auto_rows": null,
            "grid_column": null,
            "grid_gap": null,
            "grid_row": null,
            "grid_template_areas": null,
            "grid_template_columns": null,
            "grid_template_rows": null,
            "height": null,
            "justify_content": null,
            "justify_items": null,
            "left": null,
            "margin": null,
            "max_height": null,
            "max_width": null,
            "min_height": null,
            "min_width": null,
            "object_fit": null,
            "object_position": null,
            "order": null,
            "overflow": null,
            "overflow_x": null,
            "overflow_y": null,
            "padding": null,
            "right": null,
            "top": null,
            "visibility": null,
            "width": null
          }
        },
        "e8599c6fa5dd4c2996006cf80aa6a8f1": {
          "model_module": "@jupyter-widgets/controls",
          "model_name": "DescriptionStyleModel",
          "model_module_version": "1.5.0",
          "state": {
            "_model_module": "@jupyter-widgets/controls",
            "_model_module_version": "1.5.0",
            "_model_name": "DescriptionStyleModel",
            "_view_count": null,
            "_view_module": "@jupyter-widgets/base",
            "_view_module_version": "1.2.0",
            "_view_name": "StyleView",
            "description_width": ""
          }
        },
        "519c46e3e737479383a78d608247dca6": {
          "model_module": "@jupyter-widgets/base",
          "model_name": "LayoutModel",
          "model_module_version": "1.2.0",
          "state": {
            "_model_module": "@jupyter-widgets/base",
            "_model_module_version": "1.2.0",
            "_model_name": "LayoutModel",
            "_view_count": null,
            "_view_module": "@jupyter-widgets/base",
            "_view_module_version": "1.2.0",
            "_view_name": "LayoutView",
            "align_content": null,
            "align_items": null,
            "align_self": null,
            "border": null,
            "bottom": null,
            "display": null,
            "flex": null,
            "flex_flow": null,
            "grid_area": null,
            "grid_auto_columns": null,
            "grid_auto_flow": null,
            "grid_auto_rows": null,
            "grid_column": null,
            "grid_gap": null,
            "grid_row": null,
            "grid_template_areas": null,
            "grid_template_columns": null,
            "grid_template_rows": null,
            "height": null,
            "justify_content": null,
            "justify_items": null,
            "left": null,
            "margin": null,
            "max_height": null,
            "max_width": null,
            "min_height": null,
            "min_width": null,
            "object_fit": null,
            "object_position": null,
            "order": null,
            "overflow": null,
            "overflow_x": null,
            "overflow_y": null,
            "padding": null,
            "right": null,
            "top": null,
            "visibility": null,
            "width": "20px"
          }
        },
        "11480bbea1634d73aa1622a1603db395": {
          "model_module": "@jupyter-widgets/controls",
          "model_name": "ProgressStyleModel",
          "model_module_version": "1.5.0",
          "state": {
            "_model_module": "@jupyter-widgets/controls",
            "_model_module_version": "1.5.0",
            "_model_name": "ProgressStyleModel",
            "_view_count": null,
            "_view_module": "@jupyter-widgets/base",
            "_view_module_version": "1.2.0",
            "_view_name": "StyleView",
            "bar_color": null,
            "description_width": ""
          }
        },
        "cb2149155e274d7b948f16feef8ac82b": {
          "model_module": "@jupyter-widgets/base",
          "model_name": "LayoutModel",
          "model_module_version": "1.2.0",
          "state": {
            "_model_module": "@jupyter-widgets/base",
            "_model_module_version": "1.2.0",
            "_model_name": "LayoutModel",
            "_view_count": null,
            "_view_module": "@jupyter-widgets/base",
            "_view_module_version": "1.2.0",
            "_view_name": "LayoutView",
            "align_content": null,
            "align_items": null,
            "align_self": null,
            "border": null,
            "bottom": null,
            "display": null,
            "flex": null,
            "flex_flow": null,
            "grid_area": null,
            "grid_auto_columns": null,
            "grid_auto_flow": null,
            "grid_auto_rows": null,
            "grid_column": null,
            "grid_gap": null,
            "grid_row": null,
            "grid_template_areas": null,
            "grid_template_columns": null,
            "grid_template_rows": null,
            "height": null,
            "justify_content": null,
            "justify_items": null,
            "left": null,
            "margin": null,
            "max_height": null,
            "max_width": null,
            "min_height": null,
            "min_width": null,
            "object_fit": null,
            "object_position": null,
            "order": null,
            "overflow": null,
            "overflow_x": null,
            "overflow_y": null,
            "padding": null,
            "right": null,
            "top": null,
            "visibility": null,
            "width": null
          }
        },
        "1674bece9fdd4bf9bf5371757ba1eac9": {
          "model_module": "@jupyter-widgets/controls",
          "model_name": "DescriptionStyleModel",
          "model_module_version": "1.5.0",
          "state": {
            "_model_module": "@jupyter-widgets/controls",
            "_model_module_version": "1.5.0",
            "_model_name": "DescriptionStyleModel",
            "_view_count": null,
            "_view_module": "@jupyter-widgets/base",
            "_view_module_version": "1.2.0",
            "_view_name": "StyleView",
            "description_width": ""
          }
        }
      }
    }
  },
  "nbformat": 4,
  "nbformat_minor": 0
}